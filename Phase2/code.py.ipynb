{
 "cells": [
  {
   "cell_type": "code",
   "execution_count": 1,
   "metadata": {},
   "outputs": [],
   "source": [
    "import numpy as np\n",
    "import pandas as pd\n",
    "import matplotlib.pyplot as plt\n",
    "from matplotlib import pylab\n",
    "from sklearn.neighbors import KNeighborsClassifier\n",
    "from sklearn.svm import SVC\n",
    "from sklearn.model_selection import cross_validate\n",
    "from sklearn.model_selection import StratifiedKFold"
   ]
  },
  {
   "cell_type": "code",
   "execution_count": 2,
   "metadata": {},
   "outputs": [
    {
     "name": "stdout",
     "output_type": "stream",
     "text": [
      "Loading Dataset...\n",
      "Done\n"
     ]
    }
   ],
   "source": [
    "print(\"Loading Dataset...\")\n",
    "X = pd.read_csv(\"data/X.csv\", sep = \" \", header = None, dtype = float)\n",
    "X = X.values\n",
    "y = pd.read_csv(\"data/y_bush_vs_others.csv\", header = None)\n",
    "y_bush_vs_others = y.values.ravel()\n",
    "y = pd.read_csv(\"data/y_williams_vs_others.csv\", header = None)\n",
    "y_williams_vs_others = y.values.ravel()\n",
    "print(\"Done\")"
   ]
  },
  {
   "cell_type": "code",
   "execution_count": 4,
   "metadata": {
    "scrolled": true
   },
   "outputs": [],
   "source": [
    "# def trans(temp):\n",
    "#     if temp:\n",
    "#         return \"Yes\"\n",
    "#     else:\n",
    "#         return \"No\"\n",
    "#\n",
    "# print(\"Creating Images...\")\n",
    "# for i in range(len(X)): \n",
    "#     pic = np.reshape(X[i],(64,64))\n",
    "#     plt.imsave(\"Images\\Picture \"+ str(i+1) +\"_\"+ trans(y_bush_vs_others[i]) +\"_\"+ trans(y_williams_vs_others[i]) +\".png\", pic, cmap = 'gray')"
   ]
  },
  {
   "cell_type": "code",
   "execution_count": null,
   "metadata": {},
   "outputs": [
    {
     "name": "stdout",
     "output_type": "stream",
     "text": [
      "KNeighboresClassifier: 1 neighbors\n",
      "Bush Model\n",
      "Bush Fit\n",
      "Williams Model\n",
      "Williams Fit\n"
     ]
    }
   ],
   "source": [
    "neighbors = [1,3,5]\n",
    "for i in range(len(neighbors)):    \n",
    "    print(\"KNeighboresClassifier: \"+str(neighbors[i])+\" neighbors\")\n",
    "    bush_neigh = KNeighborsClassifier(n_neighbors=neighbors[i])\n",
    "    print(\"Bush Model\")\n",
    "    bush_neigh.fit(X, y_bush_vs_others) \n",
    "    print(\"Bush Fit\")\n",
    "    williams_neigh = KNeighborsClassifier(n_neighbors=neighbors[i])\n",
    "    print(\"Williams Model\")\n",
    "    williams_neigh.fit(X, y_williams_vs_others)\n",
    "    print(\"Williams Fit\")\n",
    "    stratified_cv_results_bush = cross_validate(estimator = bush_neigh, X = X, y = y_bush_vs_others, n_jobs = -1, cv=StratifiedKFold(n_splits = 3, shuffle=True, random_state = 9472), scoring=('precision', 'recall', 'f1'), return_train_score=False)\n",
    "    print(\"Bush: \",stratified_cv_results_bush)\n",
    "    stratified_cv_results_williams = cross_validate(estimator = williams_neigh, X = X, y = y_williams_vs_others, n_jobs = -1, cv=StratifiedKFold(n_splits = 3, shuffle=True, random_state = 9472), scoring=('precision', 'recall', 'f1'), return_train_score=False)\n",
    "    print(\"Williams: \",stratified_cv_results_williams)"
   ]
  }
 ],
 "metadata": {
  "kernelspec": {
   "display_name": "Python 3",
   "language": "python",
   "name": "python3"
  },
  "language_info": {
   "codemirror_mode": {
    "name": "ipython",
    "version": 3
   },
   "file_extension": ".py",
   "mimetype": "text/x-python",
   "name": "python",
   "nbconvert_exporter": "python",
   "pygments_lexer": "ipython3",
   "version": "3.6.5"
  }
 },
 "nbformat": 4,
 "nbformat_minor": 2
}
